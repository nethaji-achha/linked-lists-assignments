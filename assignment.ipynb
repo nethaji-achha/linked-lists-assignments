{
  "nbformat": 4,
  "nbformat_minor": 0,
  "metadata": {
    "colab": {
      "provenance": []
    },
    "kernelspec": {
      "name": "python3",
      "display_name": "Python 3"
    },
    "language_info": {
      "name": "python"
    }
  },
  "cells": [
    {
      "cell_type": "code",
      "metadata": {
        "id": "gn3kl_m1T2ou",
        "colab": {
          "base_uri": "https://localhost:8080/"
        },
        "outputId": "f7fc24d9-2f88-41ef-da93-743505544f1e"
      },
      "source": [
        "class Node:\n",
        "    def __init__(self, name, age, patient_id):\n",
        "        self.name = name\n",
        "        self.age = age\n",
        "        self.patient_id = patient_id\n",
        "        self.next = None\n",
        "\n",
        "class PatientLinkedList:\n",
        "    def __init__(self):\n",
        "        self.head = None\n",
        "\n",
        "    def insert_patient(self, name, age, patient_id):\n",
        "        new_node = Node(name, age, patient_id)\n",
        "        if self.head is None:\n",
        "            self.head = new_node\n",
        "            return\n",
        "\n",
        "        temp = self.head\n",
        "        while temp.next:\n",
        "            temp = temp.next\n",
        "        temp.next = new_node\n",
        "\n",
        "    # Optional: print patients to confirm insertion\n",
        "    def print_patients(self):\n",
        "        current = self.head\n",
        "        while current:\n",
        "            print(f\"Name: {current.name}, Age: {current.age}, ID: {current.patient_id}\")\n",
        "            current = current.next\n",
        "plist = PatientLinkedList()\n",
        "plist.insert_patient(\"Kalayan\",23, \"P302\")\n",
        "plist.insert_patient(\"Nethji\", 23, \"P502\")\n",
        "plist.insert_patient(\"Sudarshanam\",53, \"P352\")\n",
        "\n",
        "plist.print_patients()"
      ],
      "execution_count": 4,
      "outputs": [
        {
          "output_type": "stream",
          "name": "stdout",
          "text": [
            "Name: Kalayan, Age: 23, ID: P302\n",
            "Name: Nethji, Age: 23, ID: P502\n",
            "Name: Sudarshanam, Age: 53, ID: P352\n"
          ]
        }
      ]
    }
  ]
}